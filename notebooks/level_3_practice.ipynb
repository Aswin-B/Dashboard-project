{
 "cells": [
  {
   "cell_type": "code",
   "execution_count": 1,
   "id": "560328f1",
   "metadata": {},
   "outputs": [],
   "source": [
    "import pandas as pd\n",
    "import matplotlib.pyplot as plt\n",
    "import numpy as np"
   ]
  },
  {
   "cell_type": "code",
   "execution_count": 2,
   "id": "188f3b1a",
   "metadata": {},
   "outputs": [
    {
     "data": {
      "text/html": [
       "<div>\n",
       "<style scoped>\n",
       "    .dataframe tbody tr th:only-of-type {\n",
       "        vertical-align: middle;\n",
       "    }\n",
       "\n",
       "    .dataframe tbody tr th {\n",
       "        vertical-align: top;\n",
       "    }\n",
       "\n",
       "    .dataframe thead th {\n",
       "        text-align: right;\n",
       "    }\n",
       "</style>\n",
       "<table border=\"1\" class=\"dataframe\">\n",
       "  <thead>\n",
       "    <tr style=\"text-align: right;\">\n",
       "      <th></th>\n",
       "      <th>encounter_id</th>\n",
       "      <th>patient_nbr</th>\n",
       "      <th>race</th>\n",
       "      <th>gender</th>\n",
       "      <th>age</th>\n",
       "      <th>admission_type_id</th>\n",
       "      <th>discharge_disposition_id</th>\n",
       "      <th>discharge_disposition_id_new</th>\n",
       "      <th>admission_source_id</th>\n",
       "      <th>admission_source_id_new</th>\n",
       "      <th>...</th>\n",
       "      <th>citoglipton</th>\n",
       "      <th>insulin</th>\n",
       "      <th>glyburide-metformin</th>\n",
       "      <th>glipizide-metformin</th>\n",
       "      <th>glimepiride-pioglitazone</th>\n",
       "      <th>metformin-rosiglitazone</th>\n",
       "      <th>metformin-pioglitazone</th>\n",
       "      <th>change</th>\n",
       "      <th>diabetesMed</th>\n",
       "      <th>readmitted</th>\n",
       "    </tr>\n",
       "  </thead>\n",
       "  <tbody>\n",
       "    <tr>\n",
       "      <th>0</th>\n",
       "      <td>2278392</td>\n",
       "      <td>8222157</td>\n",
       "      <td>Caucasian</td>\n",
       "      <td>Female</td>\n",
       "      <td>[0-10)</td>\n",
       "      <td>NaN</td>\n",
       "      <td>Not Mapped</td>\n",
       "      <td>D25</td>\n",
       "      <td>Physician Referral</td>\n",
       "      <td>AS1</td>\n",
       "      <td>...</td>\n",
       "      <td>No</td>\n",
       "      <td>No</td>\n",
       "      <td>No</td>\n",
       "      <td>No</td>\n",
       "      <td>No</td>\n",
       "      <td>No</td>\n",
       "      <td>No</td>\n",
       "      <td>No</td>\n",
       "      <td>No</td>\n",
       "      <td>NO</td>\n",
       "    </tr>\n",
       "    <tr>\n",
       "      <th>1</th>\n",
       "      <td>149190</td>\n",
       "      <td>55629189</td>\n",
       "      <td>Caucasian</td>\n",
       "      <td>Female</td>\n",
       "      <td>[10-20)</td>\n",
       "      <td>Emergency</td>\n",
       "      <td>Discharged to home</td>\n",
       "      <td>D1</td>\n",
       "      <td>Emergency Room</td>\n",
       "      <td>AS7</td>\n",
       "      <td>...</td>\n",
       "      <td>No</td>\n",
       "      <td>Up</td>\n",
       "      <td>No</td>\n",
       "      <td>No</td>\n",
       "      <td>No</td>\n",
       "      <td>No</td>\n",
       "      <td>No</td>\n",
       "      <td>Ch</td>\n",
       "      <td>Yes</td>\n",
       "      <td>&gt;30</td>\n",
       "    </tr>\n",
       "    <tr>\n",
       "      <th>2</th>\n",
       "      <td>64410</td>\n",
       "      <td>86047875</td>\n",
       "      <td>AfricanAmerican</td>\n",
       "      <td>Female</td>\n",
       "      <td>[20-30)</td>\n",
       "      <td>Emergency</td>\n",
       "      <td>Discharged to home</td>\n",
       "      <td>D1</td>\n",
       "      <td>Emergency Room</td>\n",
       "      <td>AS7</td>\n",
       "      <td>...</td>\n",
       "      <td>No</td>\n",
       "      <td>No</td>\n",
       "      <td>No</td>\n",
       "      <td>No</td>\n",
       "      <td>No</td>\n",
       "      <td>No</td>\n",
       "      <td>No</td>\n",
       "      <td>No</td>\n",
       "      <td>Yes</td>\n",
       "      <td>NO</td>\n",
       "    </tr>\n",
       "    <tr>\n",
       "      <th>3</th>\n",
       "      <td>500364</td>\n",
       "      <td>82442376</td>\n",
       "      <td>Caucasian</td>\n",
       "      <td>Male</td>\n",
       "      <td>[30-40)</td>\n",
       "      <td>Emergency</td>\n",
       "      <td>Discharged to home</td>\n",
       "      <td>D1</td>\n",
       "      <td>Emergency Room</td>\n",
       "      <td>AS7</td>\n",
       "      <td>...</td>\n",
       "      <td>No</td>\n",
       "      <td>Up</td>\n",
       "      <td>No</td>\n",
       "      <td>No</td>\n",
       "      <td>No</td>\n",
       "      <td>No</td>\n",
       "      <td>No</td>\n",
       "      <td>Ch</td>\n",
       "      <td>Yes</td>\n",
       "      <td>NO</td>\n",
       "    </tr>\n",
       "    <tr>\n",
       "      <th>4</th>\n",
       "      <td>16680</td>\n",
       "      <td>42519267</td>\n",
       "      <td>Caucasian</td>\n",
       "      <td>Male</td>\n",
       "      <td>[40-50)</td>\n",
       "      <td>Emergency</td>\n",
       "      <td>Discharged to home</td>\n",
       "      <td>D1</td>\n",
       "      <td>Emergency Room</td>\n",
       "      <td>AS7</td>\n",
       "      <td>...</td>\n",
       "      <td>No</td>\n",
       "      <td>Steady</td>\n",
       "      <td>No</td>\n",
       "      <td>No</td>\n",
       "      <td>No</td>\n",
       "      <td>No</td>\n",
       "      <td>No</td>\n",
       "      <td>Ch</td>\n",
       "      <td>Yes</td>\n",
       "      <td>NO</td>\n",
       "    </tr>\n",
       "    <tr>\n",
       "      <th>...</th>\n",
       "      <td>...</td>\n",
       "      <td>...</td>\n",
       "      <td>...</td>\n",
       "      <td>...</td>\n",
       "      <td>...</td>\n",
       "      <td>...</td>\n",
       "      <td>...</td>\n",
       "      <td>...</td>\n",
       "      <td>...</td>\n",
       "      <td>...</td>\n",
       "      <td>...</td>\n",
       "      <td>...</td>\n",
       "      <td>...</td>\n",
       "      <td>...</td>\n",
       "      <td>...</td>\n",
       "      <td>...</td>\n",
       "      <td>...</td>\n",
       "      <td>...</td>\n",
       "      <td>...</td>\n",
       "      <td>...</td>\n",
       "      <td>...</td>\n",
       "    </tr>\n",
       "    <tr>\n",
       "      <th>101758</th>\n",
       "      <td>443847548</td>\n",
       "      <td>100162476</td>\n",
       "      <td>AfricanAmerican</td>\n",
       "      <td>Male</td>\n",
       "      <td>[70-80)</td>\n",
       "      <td>Emergency</td>\n",
       "      <td>Discharged/transferred to SNF</td>\n",
       "      <td>D3</td>\n",
       "      <td>Emergency Room</td>\n",
       "      <td>AS7</td>\n",
       "      <td>...</td>\n",
       "      <td>No</td>\n",
       "      <td>Down</td>\n",
       "      <td>No</td>\n",
       "      <td>No</td>\n",
       "      <td>No</td>\n",
       "      <td>No</td>\n",
       "      <td>No</td>\n",
       "      <td>Ch</td>\n",
       "      <td>Yes</td>\n",
       "      <td>&gt;30</td>\n",
       "    </tr>\n",
       "    <tr>\n",
       "      <th>101759</th>\n",
       "      <td>443847782</td>\n",
       "      <td>74694222</td>\n",
       "      <td>AfricanAmerican</td>\n",
       "      <td>Female</td>\n",
       "      <td>[80-90)</td>\n",
       "      <td>Emergency</td>\n",
       "      <td>Discharged/transferred to ICF</td>\n",
       "      <td>D4</td>\n",
       "      <td>Transfer from a Skilled Nursing Facility (SNF)</td>\n",
       "      <td>AS5</td>\n",
       "      <td>...</td>\n",
       "      <td>No</td>\n",
       "      <td>Steady</td>\n",
       "      <td>No</td>\n",
       "      <td>No</td>\n",
       "      <td>No</td>\n",
       "      <td>No</td>\n",
       "      <td>No</td>\n",
       "      <td>No</td>\n",
       "      <td>Yes</td>\n",
       "      <td>NO</td>\n",
       "    </tr>\n",
       "    <tr>\n",
       "      <th>101760</th>\n",
       "      <td>443854148</td>\n",
       "      <td>41088789</td>\n",
       "      <td>Caucasian</td>\n",
       "      <td>Male</td>\n",
       "      <td>[70-80)</td>\n",
       "      <td>Emergency</td>\n",
       "      <td>Discharged to home</td>\n",
       "      <td>D1</td>\n",
       "      <td>Emergency Room</td>\n",
       "      <td>AS7</td>\n",
       "      <td>...</td>\n",
       "      <td>No</td>\n",
       "      <td>Down</td>\n",
       "      <td>No</td>\n",
       "      <td>No</td>\n",
       "      <td>No</td>\n",
       "      <td>No</td>\n",
       "      <td>No</td>\n",
       "      <td>Ch</td>\n",
       "      <td>Yes</td>\n",
       "      <td>NO</td>\n",
       "    </tr>\n",
       "    <tr>\n",
       "      <th>101761</th>\n",
       "      <td>443857166</td>\n",
       "      <td>31693671</td>\n",
       "      <td>Caucasian</td>\n",
       "      <td>Female</td>\n",
       "      <td>[80-90)</td>\n",
       "      <td>Urgent</td>\n",
       "      <td>Discharged/transferred to SNF</td>\n",
       "      <td>D3</td>\n",
       "      <td>Emergency Room</td>\n",
       "      <td>AS7</td>\n",
       "      <td>...</td>\n",
       "      <td>No</td>\n",
       "      <td>Up</td>\n",
       "      <td>No</td>\n",
       "      <td>No</td>\n",
       "      <td>No</td>\n",
       "      <td>No</td>\n",
       "      <td>No</td>\n",
       "      <td>Ch</td>\n",
       "      <td>Yes</td>\n",
       "      <td>NO</td>\n",
       "    </tr>\n",
       "    <tr>\n",
       "      <th>101762</th>\n",
       "      <td>443867222</td>\n",
       "      <td>175429310</td>\n",
       "      <td>Caucasian</td>\n",
       "      <td>Male</td>\n",
       "      <td>[70-80)</td>\n",
       "      <td>Emergency</td>\n",
       "      <td>Discharged to home</td>\n",
       "      <td>D1</td>\n",
       "      <td>Emergency Room</td>\n",
       "      <td>AS7</td>\n",
       "      <td>...</td>\n",
       "      <td>No</td>\n",
       "      <td>No</td>\n",
       "      <td>No</td>\n",
       "      <td>No</td>\n",
       "      <td>No</td>\n",
       "      <td>No</td>\n",
       "      <td>No</td>\n",
       "      <td>No</td>\n",
       "      <td>No</td>\n",
       "      <td>NO</td>\n",
       "    </tr>\n",
       "  </tbody>\n",
       "</table>\n",
       "<p>101763 rows × 50 columns</p>\n",
       "</div>"
      ],
      "text/plain": [
       "        encounter_id  patient_nbr             race  gender      age  \\\n",
       "0            2278392      8222157        Caucasian  Female   [0-10)   \n",
       "1             149190     55629189        Caucasian  Female  [10-20)   \n",
       "2              64410     86047875  AfricanAmerican  Female  [20-30)   \n",
       "3             500364     82442376        Caucasian    Male  [30-40)   \n",
       "4              16680     42519267        Caucasian    Male  [40-50)   \n",
       "...              ...          ...              ...     ...      ...   \n",
       "101758     443847548    100162476  AfricanAmerican    Male  [70-80)   \n",
       "101759     443847782     74694222  AfricanAmerican  Female  [80-90)   \n",
       "101760     443854148     41088789        Caucasian    Male  [70-80)   \n",
       "101761     443857166     31693671        Caucasian  Female  [80-90)   \n",
       "101762     443867222    175429310        Caucasian    Male  [70-80)   \n",
       "\n",
       "       admission_type_id       discharge_disposition_id  \\\n",
       "0                    NaN                     Not Mapped   \n",
       "1              Emergency             Discharged to home   \n",
       "2              Emergency             Discharged to home   \n",
       "3              Emergency             Discharged to home   \n",
       "4              Emergency             Discharged to home   \n",
       "...                  ...                            ...   \n",
       "101758         Emergency  Discharged/transferred to SNF   \n",
       "101759         Emergency  Discharged/transferred to ICF   \n",
       "101760         Emergency             Discharged to home   \n",
       "101761            Urgent  Discharged/transferred to SNF   \n",
       "101762         Emergency             Discharged to home   \n",
       "\n",
       "       discharge_disposition_id_new  \\\n",
       "0                               D25   \n",
       "1                                D1   \n",
       "2                                D1   \n",
       "3                                D1   \n",
       "4                                D1   \n",
       "...                             ...   \n",
       "101758                           D3   \n",
       "101759                           D4   \n",
       "101760                           D1   \n",
       "101761                           D3   \n",
       "101762                           D1   \n",
       "\n",
       "                                   admission_source_id  \\\n",
       "0                                   Physician Referral   \n",
       "1                                       Emergency Room   \n",
       "2                                       Emergency Room   \n",
       "3                                       Emergency Room   \n",
       "4                                       Emergency Room   \n",
       "...                                                ...   \n",
       "101758                                  Emergency Room   \n",
       "101759  Transfer from a Skilled Nursing Facility (SNF)   \n",
       "101760                                  Emergency Room   \n",
       "101761                                  Emergency Room   \n",
       "101762                                  Emergency Room   \n",
       "\n",
       "       admission_source_id_new  ...  citoglipton insulin  glyburide-metformin  \\\n",
       "0                          AS1  ...           No      No                   No   \n",
       "1                          AS7  ...           No      Up                   No   \n",
       "2                          AS7  ...           No      No                   No   \n",
       "3                          AS7  ...           No      Up                   No   \n",
       "4                          AS7  ...           No  Steady                   No   \n",
       "...                        ...  ...          ...     ...                  ...   \n",
       "101758                     AS7  ...           No    Down                   No   \n",
       "101759                     AS5  ...           No  Steady                   No   \n",
       "101760                     AS7  ...           No    Down                   No   \n",
       "101761                     AS7  ...           No      Up                   No   \n",
       "101762                     AS7  ...           No      No                   No   \n",
       "\n",
       "        glipizide-metformin  glimepiride-pioglitazone  \\\n",
       "0                        No                        No   \n",
       "1                        No                        No   \n",
       "2                        No                        No   \n",
       "3                        No                        No   \n",
       "4                        No                        No   \n",
       "...                     ...                       ...   \n",
       "101758                   No                        No   \n",
       "101759                   No                        No   \n",
       "101760                   No                        No   \n",
       "101761                   No                        No   \n",
       "101762                   No                        No   \n",
       "\n",
       "        metformin-rosiglitazone  metformin-pioglitazone  change diabetesMed  \\\n",
       "0                            No                      No      No          No   \n",
       "1                            No                      No      Ch         Yes   \n",
       "2                            No                      No      No         Yes   \n",
       "3                            No                      No      Ch         Yes   \n",
       "4                            No                      No      Ch         Yes   \n",
       "...                         ...                     ...     ...         ...   \n",
       "101758                       No                      No      Ch         Yes   \n",
       "101759                       No                      No      No         Yes   \n",
       "101760                       No                      No      Ch         Yes   \n",
       "101761                       No                      No      Ch         Yes   \n",
       "101762                       No                      No      No          No   \n",
       "\n",
       "       readmitted  \n",
       "0              NO  \n",
       "1             >30  \n",
       "2              NO  \n",
       "3              NO  \n",
       "4              NO  \n",
       "...           ...  \n",
       "101758        >30  \n",
       "101759         NO  \n",
       "101760         NO  \n",
       "101761         NO  \n",
       "101762         NO  \n",
       "\n",
       "[101763 rows x 50 columns]"
      ]
     },
     "execution_count": 2,
     "metadata": {},
     "output_type": "execute_result"
    }
   ],
   "source": [
    "df = pd.read_csv('../notebooks/optimized_data.csv')\n",
    "df"
   ]
  },
  {
   "cell_type": "code",
   "execution_count": 3,
   "id": "c0bd1573",
   "metadata": {},
   "outputs": [
    {
     "data": {
      "text/plain": [
       "[70-80)     1230\n",
       "[60-70)     1012\n",
       "[80-90)      851\n",
       "[50-60)      641\n",
       "[40-50)      363\n",
       "[90-100)     130\n",
       "[30-40)      114\n",
       "[20-30)       35\n",
       "[10-20)       13\n",
       "[0-10)         1\n",
       "Name: age, dtype: int64"
      ]
     },
     "execution_count": 3,
     "metadata": {},
     "output_type": "execute_result"
    }
   ],
   "source": [
    "a = df.loc[df['time_in_hospital'] == 8]['age'].value_counts()\n",
    "a"
   ]
  },
  {
   "cell_type": "code",
   "execution_count": 4,
   "id": "413e56f8",
   "metadata": {},
   "outputs": [
    {
     "data": {
      "text/html": [
       "<div>\n",
       "<style scoped>\n",
       "    .dataframe tbody tr th:only-of-type {\n",
       "        vertical-align: middle;\n",
       "    }\n",
       "\n",
       "    .dataframe tbody tr th {\n",
       "        vertical-align: top;\n",
       "    }\n",
       "\n",
       "    .dataframe thead th {\n",
       "        text-align: right;\n",
       "    }\n",
       "</style>\n",
       "<table border=\"1\" class=\"dataframe\">\n",
       "  <thead>\n",
       "    <tr style=\"text-align: right;\">\n",
       "      <th></th>\n",
       "      <th>encounter_id</th>\n",
       "      <th>patient_nbr</th>\n",
       "      <th>race</th>\n",
       "      <th>gender</th>\n",
       "      <th>age</th>\n",
       "      <th>admission_type_id</th>\n",
       "      <th>discharge_disposition_id</th>\n",
       "      <th>discharge_disposition_id_new</th>\n",
       "      <th>admission_source_id</th>\n",
       "      <th>admission_source_id_new</th>\n",
       "      <th>...</th>\n",
       "      <th>citoglipton</th>\n",
       "      <th>insulin</th>\n",
       "      <th>glyburide-metformin</th>\n",
       "      <th>glipizide-metformin</th>\n",
       "      <th>glimepiride-pioglitazone</th>\n",
       "      <th>metformin-rosiglitazone</th>\n",
       "      <th>metformin-pioglitazone</th>\n",
       "      <th>change</th>\n",
       "      <th>diabetesMed</th>\n",
       "      <th>readmitted</th>\n",
       "    </tr>\n",
       "  </thead>\n",
       "  <tbody>\n",
       "    <tr>\n",
       "      <th>2935</th>\n",
       "      <td>18757914</td>\n",
       "      <td>7691157</td>\n",
       "      <td>AfricanAmerican</td>\n",
       "      <td>Male</td>\n",
       "      <td>[0-10)</td>\n",
       "      <td>Elective</td>\n",
       "      <td>Discharged to home</td>\n",
       "      <td>D1</td>\n",
       "      <td>Physician Referral</td>\n",
       "      <td>AS1</td>\n",
       "      <td>...</td>\n",
       "      <td>No</td>\n",
       "      <td>No</td>\n",
       "      <td>No</td>\n",
       "      <td>No</td>\n",
       "      <td>No</td>\n",
       "      <td>No</td>\n",
       "      <td>No</td>\n",
       "      <td>No</td>\n",
       "      <td>No</td>\n",
       "      <td>NO</td>\n",
       "    </tr>\n",
       "  </tbody>\n",
       "</table>\n",
       "<p>1 rows × 50 columns</p>\n",
       "</div>"
      ],
      "text/plain": [
       "      encounter_id  patient_nbr             race gender     age  \\\n",
       "2935      18757914      7691157  AfricanAmerican   Male  [0-10)   \n",
       "\n",
       "     admission_type_id discharge_disposition_id discharge_disposition_id_new  \\\n",
       "2935          Elective       Discharged to home                           D1   \n",
       "\n",
       "     admission_source_id admission_source_id_new  ...  citoglipton insulin  \\\n",
       "2935  Physician Referral                     AS1  ...           No      No   \n",
       "\n",
       "      glyburide-metformin  glipizide-metformin  glimepiride-pioglitazone  \\\n",
       "2935                   No                   No                        No   \n",
       "\n",
       "      metformin-rosiglitazone  metformin-pioglitazone  change diabetesMed  \\\n",
       "2935                       No                      No      No          No   \n",
       "\n",
       "     readmitted  \n",
       "2935         NO  \n",
       "\n",
       "[1 rows x 50 columns]"
      ]
     },
     "execution_count": 4,
     "metadata": {},
     "output_type": "execute_result"
    }
   ],
   "source": [
    "df.loc[(df['time_in_hospital'] == 8) & (df['age'] == '[0-10)')]"
   ]
  },
  {
   "cell_type": "code",
   "execution_count": null,
   "id": "844662e5",
   "metadata": {},
   "outputs": [],
   "source": []
  },
  {
   "cell_type": "code",
   "execution_count": 5,
   "id": "7f54ba12",
   "metadata": {},
   "outputs": [],
   "source": [
    "import numpy as np"
   ]
  },
  {
   "cell_type": "code",
   "execution_count": 6,
   "id": "68a4a43f",
   "metadata": {},
   "outputs": [
    {
     "data": {
      "text/plain": [
       "array([0.01, 0.01, 0.01, 0.01, 0.01])"
      ]
     },
     "execution_count": 6,
     "metadata": {},
     "output_type": "execute_result"
    }
   ],
   "source": [
    "np.repeat(0.01,5)"
   ]
  },
  {
   "cell_type": "code",
   "execution_count": null,
   "id": "065fba34",
   "metadata": {},
   "outputs": [],
   "source": []
  },
  {
   "cell_type": "code",
   "execution_count": 7,
   "id": "90b1c01b",
   "metadata": {},
   "outputs": [
    {
     "data": {
      "text/plain": [
       "[0-10)       1\n",
       "[20-30)     35\n",
       "[30-40)    114\n",
       "Name: age, dtype: int64"
      ]
     },
     "execution_count": 7,
     "metadata": {},
     "output_type": "execute_result"
    }
   ],
   "source": [
    "df.loc[(df['time_in_hospital'] == 8) & (df['age'].isin(['[0-10)', '[20-30)', '[30-40)']))]['age'].value_counts().sort_index()"
   ]
  },
  {
   "cell_type": "code",
   "execution_count": 8,
   "id": "d27864f3",
   "metadata": {},
   "outputs": [
    {
     "data": {
      "text/plain": [
       "[0-10)       161\n",
       "[50-60)    17256\n",
       "Name: age, dtype: int64"
      ]
     },
     "execution_count": 8,
     "metadata": {},
     "output_type": "execute_result"
    }
   ],
   "source": [
    "df.loc[(df['time_in_hospital'].between(1,14)) & (df['age'].isin(['[0-10)', '[50-60)']))]['age'].value_counts().sort_index()"
   ]
  },
  {
   "cell_type": "code",
   "execution_count": null,
   "id": "01fd89c7",
   "metadata": {},
   "outputs": [],
   "source": []
  },
  {
   "cell_type": "code",
   "execution_count": 9,
   "id": "86d88223",
   "metadata": {},
   "outputs": [
    {
     "data": {
      "text/plain": [
       "D1     60232\n",
       "D3     13954\n",
       "D6     12902\n",
       "D2      2128\n",
       "D22     1992\n",
       "Name: discharge_disposition_id_new, dtype: int64"
      ]
     },
     "execution_count": 9,
     "metadata": {},
     "output_type": "execute_result"
    }
   ],
   "source": [
    "discharge = df['discharge_disposition_id_new'].value_counts()[:5]\n",
    "discharge"
   ]
  },
  {
   "cell_type": "code",
   "execution_count": 10,
   "id": "53036995",
   "metadata": {},
   "outputs": [
    {
     "data": {
      "text/plain": [
       "D1    60232\n",
       "D3    13954\n",
       "D6    12902\n",
       "Name: discharge_disposition_id_new, dtype: int64"
      ]
     },
     "execution_count": 10,
     "metadata": {},
     "output_type": "execute_result"
    }
   ],
   "source": [
    "tt_dis = discharge[:3]\n",
    "tt_dis"
   ]
  },
  {
   "cell_type": "code",
   "execution_count": 11,
   "id": "05e08901",
   "metadata": {},
   "outputs": [
    {
     "data": {
      "text/plain": [
       "0    4120\n",
       "dtype: int64"
      ]
     },
     "execution_count": 11,
     "metadata": {},
     "output_type": "execute_result"
    }
   ],
   "source": [
    "others_discharge = pd.Series(discharge[3:].sum())\n",
    "others_discharge"
   ]
  },
  {
   "cell_type": "code",
   "execution_count": 12,
   "id": "5de88f1b",
   "metadata": {},
   "outputs": [
    {
     "data": {
      "text/plain": [
       "Others    4120\n",
       "dtype: int64"
      ]
     },
     "execution_count": 12,
     "metadata": {},
     "output_type": "execute_result"
    }
   ],
   "source": [
    "others_discharge = others_discharge.rename(index = {0: 'Others'})\n",
    "others_discharge"
   ]
  },
  {
   "cell_type": "code",
   "execution_count": 13,
   "id": "c6986d74",
   "metadata": {},
   "outputs": [],
   "source": [
    "dis = pd.concat([tt_dis, others_discharge])"
   ]
  },
  {
   "cell_type": "code",
   "execution_count": null,
   "id": "867421d9",
   "metadata": {},
   "outputs": [],
   "source": []
  },
  {
   "cell_type": "code",
   "execution_count": null,
   "id": "cebe3a75",
   "metadata": {},
   "outputs": [],
   "source": []
  },
  {
   "cell_type": "code",
   "execution_count": 14,
   "id": "acb2fe9e",
   "metadata": {},
   "outputs": [
    {
     "data": {
      "text/plain": [
       "Female    54708\n",
       "Male      47055\n",
       "Name: gender, dtype: int64"
      ]
     },
     "execution_count": 14,
     "metadata": {},
     "output_type": "execute_result"
    }
   ],
   "source": [
    "comp = df['gender'].value_counts()\n",
    "comp"
   ]
  },
  {
   "cell_type": "code",
   "execution_count": 15,
   "id": "1792c675",
   "metadata": {},
   "outputs": [
    {
     "data": {
      "text/plain": [
       "Female    54708\n",
       "Name: gender, dtype: int64"
      ]
     },
     "execution_count": 15,
     "metadata": {},
     "output_type": "execute_result"
    }
   ],
   "source": [
    "comp[:1]"
   ]
  },
  {
   "cell_type": "code",
   "execution_count": 16,
   "id": "aa7aefc4",
   "metadata": {},
   "outputs": [
    {
     "data": {
      "image/png": "[encoded data removed]",
      "text/plain": [
       "<Figure size 500x500 with 1 Axes>"
      ]
     },
     "metadata": {},
     "output_type": "display_data"
    }
   ],
   "source": [
    "fig = plt.figure(figsize=(5, 5))\n",
    "ax = fig.add_subplot()\n",
    "\n",
    "# Plotting line\n",
    "ax.pie(comp, autopct='%1.1f%%', explode=np.repeat(0.01, len(comp)), \n",
    "       colors=['#2E86C1', '#F1C40F', '#EC7063', '#1ABC9C', '#8E44AD'])\n",
    "\n",
    "# setting title\n",
    "# ax.set_title('Composition of Male and Female Patients')\n",
    "\n",
    "ax.legend(comp[:7].index, loc=(0.23, -0.1), ncol=2)\n",
    "\n",
    "plt.show()"
   ]
  },
  {
   "cell_type": "code",
   "execution_count": null,
   "id": "721e60bf",
   "metadata": {},
   "outputs": [],
   "source": []
  },
  {
   "cell_type": "code",
   "execution_count": 17,
   "id": "e1d3f1a9",
   "metadata": {},
   "outputs": [
    {
     "data": {
      "text/html": [
       "<div>\n",
       "<style scoped>\n",
       "    .dataframe tbody tr th:only-of-type {\n",
       "        vertical-align: middle;\n",
       "    }\n",
       "\n",
       "    .dataframe tbody tr th {\n",
       "        vertical-align: top;\n",
       "    }\n",
       "\n",
       "    .dataframe thead th {\n",
       "        text-align: right;\n",
       "    }\n",
       "</style>\n",
       "<table border=\"1\" class=\"dataframe\">\n",
       "  <thead>\n",
       "    <tr style=\"text-align: right;\">\n",
       "      <th></th>\n",
       "      <th>encounter_id</th>\n",
       "      <th>patient_nbr</th>\n",
       "      <th>race</th>\n",
       "      <th>gender</th>\n",
       "      <th>age</th>\n",
       "      <th>admission_type_id</th>\n",
       "      <th>discharge_disposition_id</th>\n",
       "      <th>discharge_disposition_id_new</th>\n",
       "      <th>admission_source_id</th>\n",
       "      <th>admission_source_id_new</th>\n",
       "      <th>...</th>\n",
       "      <th>citoglipton</th>\n",
       "      <th>insulin</th>\n",
       "      <th>glyburide-metformin</th>\n",
       "      <th>glipizide-metformin</th>\n",
       "      <th>glimepiride-pioglitazone</th>\n",
       "      <th>metformin-rosiglitazone</th>\n",
       "      <th>metformin-pioglitazone</th>\n",
       "      <th>change</th>\n",
       "      <th>diabetesMed</th>\n",
       "      <th>readmitted</th>\n",
       "    </tr>\n",
       "  </thead>\n",
       "  <tbody>\n",
       "    <tr>\n",
       "      <th>0</th>\n",
       "      <td>2278392</td>\n",
       "      <td>8222157</td>\n",
       "      <td>Caucasian</td>\n",
       "      <td>Female</td>\n",
       "      <td>[0-10)</td>\n",
       "      <td>NaN</td>\n",
       "      <td>Not Mapped</td>\n",
       "      <td>D25</td>\n",
       "      <td>Physician Referral</td>\n",
       "      <td>AS1</td>\n",
       "      <td>...</td>\n",
       "      <td>No</td>\n",
       "      <td>No</td>\n",
       "      <td>No</td>\n",
       "      <td>No</td>\n",
       "      <td>No</td>\n",
       "      <td>No</td>\n",
       "      <td>No</td>\n",
       "      <td>No</td>\n",
       "      <td>No</td>\n",
       "      <td>NO</td>\n",
       "    </tr>\n",
       "    <tr>\n",
       "      <th>1</th>\n",
       "      <td>149190</td>\n",
       "      <td>55629189</td>\n",
       "      <td>Caucasian</td>\n",
       "      <td>Female</td>\n",
       "      <td>[10-20)</td>\n",
       "      <td>Emergency</td>\n",
       "      <td>Discharged to home</td>\n",
       "      <td>D1</td>\n",
       "      <td>Emergency Room</td>\n",
       "      <td>AS7</td>\n",
       "      <td>...</td>\n",
       "      <td>No</td>\n",
       "      <td>Up</td>\n",
       "      <td>No</td>\n",
       "      <td>No</td>\n",
       "      <td>No</td>\n",
       "      <td>No</td>\n",
       "      <td>No</td>\n",
       "      <td>Ch</td>\n",
       "      <td>Yes</td>\n",
       "      <td>&gt;30</td>\n",
       "    </tr>\n",
       "    <tr>\n",
       "      <th>2</th>\n",
       "      <td>64410</td>\n",
       "      <td>86047875</td>\n",
       "      <td>AfricanAmerican</td>\n",
       "      <td>Female</td>\n",
       "      <td>[20-30)</td>\n",
       "      <td>Emergency</td>\n",
       "      <td>Discharged to home</td>\n",
       "      <td>D1</td>\n",
       "      <td>Emergency Room</td>\n",
       "      <td>AS7</td>\n",
       "      <td>...</td>\n",
       "      <td>No</td>\n",
       "      <td>No</td>\n",
       "      <td>No</td>\n",
       "      <td>No</td>\n",
       "      <td>No</td>\n",
       "      <td>No</td>\n",
       "      <td>No</td>\n",
       "      <td>No</td>\n",
       "      <td>Yes</td>\n",
       "      <td>NO</td>\n",
       "    </tr>\n",
       "    <tr>\n",
       "      <th>3</th>\n",
       "      <td>500364</td>\n",
       "      <td>82442376</td>\n",
       "      <td>Caucasian</td>\n",
       "      <td>Male</td>\n",
       "      <td>[30-40)</td>\n",
       "      <td>Emergency</td>\n",
       "      <td>Discharged to home</td>\n",
       "      <td>D1</td>\n",
       "      <td>Emergency Room</td>\n",
       "      <td>AS7</td>\n",
       "      <td>...</td>\n",
       "      <td>No</td>\n",
       "      <td>Up</td>\n",
       "      <td>No</td>\n",
       "      <td>No</td>\n",
       "      <td>No</td>\n",
       "      <td>No</td>\n",
       "      <td>No</td>\n",
       "      <td>Ch</td>\n",
       "      <td>Yes</td>\n",
       "      <td>NO</td>\n",
       "    </tr>\n",
       "    <tr>\n",
       "      <th>4</th>\n",
       "      <td>16680</td>\n",
       "      <td>42519267</td>\n",
       "      <td>Caucasian</td>\n",
       "      <td>Male</td>\n",
       "      <td>[40-50)</td>\n",
       "      <td>Emergency</td>\n",
       "      <td>Discharged to home</td>\n",
       "      <td>D1</td>\n",
       "      <td>Emergency Room</td>\n",
       "      <td>AS7</td>\n",
       "      <td>...</td>\n",
       "      <td>No</td>\n",
       "      <td>Steady</td>\n",
       "      <td>No</td>\n",
       "      <td>No</td>\n",
       "      <td>No</td>\n",
       "      <td>No</td>\n",
       "      <td>No</td>\n",
       "      <td>Ch</td>\n",
       "      <td>Yes</td>\n",
       "      <td>NO</td>\n",
       "    </tr>\n",
       "    <tr>\n",
       "      <th>...</th>\n",
       "      <td>...</td>\n",
       "      <td>...</td>\n",
       "      <td>...</td>\n",
       "      <td>...</td>\n",
       "      <td>...</td>\n",
       "      <td>...</td>\n",
       "      <td>...</td>\n",
       "      <td>...</td>\n",
       "      <td>...</td>\n",
       "      <td>...</td>\n",
       "      <td>...</td>\n",
       "      <td>...</td>\n",
       "      <td>...</td>\n",
       "      <td>...</td>\n",
       "      <td>...</td>\n",
       "      <td>...</td>\n",
       "      <td>...</td>\n",
       "      <td>...</td>\n",
       "      <td>...</td>\n",
       "      <td>...</td>\n",
       "      <td>...</td>\n",
       "    </tr>\n",
       "    <tr>\n",
       "      <th>101758</th>\n",
       "      <td>443847548</td>\n",
       "      <td>100162476</td>\n",
       "      <td>AfricanAmerican</td>\n",
       "      <td>Male</td>\n",
       "      <td>[70-80)</td>\n",
       "      <td>Emergency</td>\n",
       "      <td>Discharged/transferred to SNF</td>\n",
       "      <td>D3</td>\n",
       "      <td>Emergency Room</td>\n",
       "      <td>AS7</td>\n",
       "      <td>...</td>\n",
       "      <td>No</td>\n",
       "      <td>Down</td>\n",
       "      <td>No</td>\n",
       "      <td>No</td>\n",
       "      <td>No</td>\n",
       "      <td>No</td>\n",
       "      <td>No</td>\n",
       "      <td>Ch</td>\n",
       "      <td>Yes</td>\n",
       "      <td>&gt;30</td>\n",
       "    </tr>\n",
       "    <tr>\n",
       "      <th>101759</th>\n",
       "      <td>443847782</td>\n",
       "      <td>74694222</td>\n",
       "      <td>AfricanAmerican</td>\n",
       "      <td>Female</td>\n",
       "      <td>[80-90)</td>\n",
       "      <td>Emergency</td>\n",
       "      <td>Discharged/transferred to ICF</td>\n",
       "      <td>D4</td>\n",
       "      <td>Transfer from a Skilled Nursing Facility (SNF)</td>\n",
       "      <td>AS5</td>\n",
       "      <td>...</td>\n",
       "      <td>No</td>\n",
       "      <td>Steady</td>\n",
       "      <td>No</td>\n",
       "      <td>No</td>\n",
       "      <td>No</td>\n",
       "      <td>No</td>\n",
       "      <td>No</td>\n",
       "      <td>No</td>\n",
       "      <td>Yes</td>\n",
       "      <td>NO</td>\n",
       "    </tr>\n",
       "    <tr>\n",
       "      <th>101760</th>\n",
       "      <td>443854148</td>\n",
       "      <td>41088789</td>\n",
       "      <td>Caucasian</td>\n",
       "      <td>Male</td>\n",
       "      <td>[70-80)</td>\n",
       "      <td>Emergency</td>\n",
       "      <td>Discharged to home</td>\n",
       "      <td>D1</td>\n",
       "      <td>Emergency Room</td>\n",
       "      <td>AS7</td>\n",
       "      <td>...</td>\n",
       "      <td>No</td>\n",
       "      <td>Down</td>\n",
       "      <td>No</td>\n",
       "      <td>No</td>\n",
       "      <td>No</td>\n",
       "      <td>No</td>\n",
       "      <td>No</td>\n",
       "      <td>Ch</td>\n",
       "      <td>Yes</td>\n",
       "      <td>NO</td>\n",
       "    </tr>\n",
       "    <tr>\n",
       "      <th>101761</th>\n",
       "      <td>443857166</td>\n",
       "      <td>31693671</td>\n",
       "      <td>Caucasian</td>\n",
       "      <td>Female</td>\n",
       "      <td>[80-90)</td>\n",
       "      <td>Urgent</td>\n",
       "      <td>Discharged/transferred to SNF</td>\n",
       "      <td>D3</td>\n",
       "      <td>Emergency Room</td>\n",
       "      <td>AS7</td>\n",
       "      <td>...</td>\n",
       "      <td>No</td>\n",
       "      <td>Up</td>\n",
       "      <td>No</td>\n",
       "      <td>No</td>\n",
       "      <td>No</td>\n",
       "      <td>No</td>\n",
       "      <td>No</td>\n",
       "      <td>Ch</td>\n",
       "      <td>Yes</td>\n",
       "      <td>NO</td>\n",
       "    </tr>\n",
       "    <tr>\n",
       "      <th>101762</th>\n",
       "      <td>443867222</td>\n",
       "      <td>175429310</td>\n",
       "      <td>Caucasian</td>\n",
       "      <td>Male</td>\n",
       "      <td>[70-80)</td>\n",
       "      <td>Emergency</td>\n",
       "      <td>Discharged to home</td>\n",
       "      <td>D1</td>\n",
       "      <td>Emergency Room</td>\n",
       "      <td>AS7</td>\n",
       "      <td>...</td>\n",
       "      <td>No</td>\n",
       "      <td>No</td>\n",
       "      <td>No</td>\n",
       "      <td>No</td>\n",
       "      <td>No</td>\n",
       "      <td>No</td>\n",
       "      <td>No</td>\n",
       "      <td>No</td>\n",
       "      <td>No</td>\n",
       "      <td>NO</td>\n",
       "    </tr>\n",
       "  </tbody>\n",
       "</table>\n",
       "<p>101763 rows × 50 columns</p>\n",
       "</div>"
      ],
      "text/plain": [
       "        encounter_id  patient_nbr             race  gender      age  \\\n",
       "0            2278392      8222157        Caucasian  Female   [0-10)   \n",
       "1             149190     55629189        Caucasian  Female  [10-20)   \n",
       "2              64410     86047875  AfricanAmerican  Female  [20-30)   \n",
       "3             500364     82442376        Caucasian    Male  [30-40)   \n",
       "4              16680     42519267        Caucasian    Male  [40-50)   \n",
       "...              ...          ...              ...     ...      ...   \n",
       "101758     443847548    100162476  AfricanAmerican    Male  [70-80)   \n",
       "101759     443847782     74694222  AfricanAmerican  Female  [80-90)   \n",
       "101760     443854148     41088789        Caucasian    Male  [70-80)   \n",
       "101761     443857166     31693671        Caucasian  Female  [80-90)   \n",
       "101762     443867222    175429310        Caucasian    Male  [70-80)   \n",
       "\n",
       "       admission_type_id       discharge_disposition_id  \\\n",
       "0                    NaN                     Not Mapped   \n",
       "1              Emergency             Discharged to home   \n",
       "2              Emergency             Discharged to home   \n",
       "3              Emergency             Discharged to home   \n",
       "4              Emergency             Discharged to home   \n",
       "...                  ...                            ...   \n",
       "101758         Emergency  Discharged/transferred to SNF   \n",
       "101759         Emergency  Discharged/transferred to ICF   \n",
       "101760         Emergency             Discharged to home   \n",
       "101761            Urgent  Discharged/transferred to SNF   \n",
       "101762         Emergency             Discharged to home   \n",
       "\n",
       "       discharge_disposition_id_new  \\\n",
       "0                               D25   \n",
       "1                                D1   \n",
       "2                                D1   \n",
       "3                                D1   \n",
       "4                                D1   \n",
       "...                             ...   \n",
       "101758                           D3   \n",
       "101759                           D4   \n",
       "101760                           D1   \n",
       "101761                           D3   \n",
       "101762                           D1   \n",
       "\n",
       "                                   admission_source_id  \\\n",
       "0                                   Physician Referral   \n",
       "1                                       Emergency Room   \n",
       "2                                       Emergency Room   \n",
       "3                                       Emergency Room   \n",
       "4                                       Emergency Room   \n",
       "...                                                ...   \n",
       "101758                                  Emergency Room   \n",
       "101759  Transfer from a Skilled Nursing Facility (SNF)   \n",
       "101760                                  Emergency Room   \n",
       "101761                                  Emergency Room   \n",
       "101762                                  Emergency Room   \n",
       "\n",
       "       admission_source_id_new  ...  citoglipton insulin  glyburide-metformin  \\\n",
       "0                          AS1  ...           No      No                   No   \n",
       "1                          AS7  ...           No      Up                   No   \n",
       "2                          AS7  ...           No      No                   No   \n",
       "3                          AS7  ...           No      Up                   No   \n",
       "4                          AS7  ...           No  Steady                   No   \n",
       "...                        ...  ...          ...     ...                  ...   \n",
       "101758                     AS7  ...           No    Down                   No   \n",
       "101759                     AS5  ...           No  Steady                   No   \n",
       "101760                     AS7  ...           No    Down                   No   \n",
       "101761                     AS7  ...           No      Up                   No   \n",
       "101762                     AS7  ...           No      No                   No   \n",
       "\n",
       "        glipizide-metformin  glimepiride-pioglitazone  \\\n",
       "0                        No                        No   \n",
       "1                        No                        No   \n",
       "2                        No                        No   \n",
       "3                        No                        No   \n",
       "4                        No                        No   \n",
       "...                     ...                       ...   \n",
       "101758                   No                        No   \n",
       "101759                   No                        No   \n",
       "101760                   No                        No   \n",
       "101761                   No                        No   \n",
       "101762                   No                        No   \n",
       "\n",
       "        metformin-rosiglitazone  metformin-pioglitazone  change diabetesMed  \\\n",
       "0                            No                      No      No          No   \n",
       "1                            No                      No      Ch         Yes   \n",
       "2                            No                      No      No         Yes   \n",
       "3                            No                      No      Ch         Yes   \n",
       "4                            No                      No      Ch         Yes   \n",
       "...                         ...                     ...     ...         ...   \n",
       "101758                       No                      No      Ch         Yes   \n",
       "101759                       No                      No      No         Yes   \n",
       "101760                       No                      No      Ch         Yes   \n",
       "101761                       No                      No      Ch         Yes   \n",
       "101762                       No                      No      No          No   \n",
       "\n",
       "       readmitted  \n",
       "0              NO  \n",
       "1             >30  \n",
       "2              NO  \n",
       "3              NO  \n",
       "4              NO  \n",
       "...           ...  \n",
       "101758        >30  \n",
       "101759         NO  \n",
       "101760         NO  \n",
       "101761         NO  \n",
       "101762         NO  \n",
       "\n",
       "[101763 rows x 50 columns]"
      ]
     },
     "execution_count": 17,
     "metadata": {},
     "output_type": "execute_result"
    }
   ],
   "source": [
    "df"
   ]
  },
  {
   "cell_type": "code",
   "execution_count": 18,
   "id": "5d0b86ab",
   "metadata": {},
   "outputs": [
    {
     "data": {
      "text/plain": [
       "0         Pediatrics-Endocrinology\n",
       "9                 InternalMedicine\n",
       "12          Family/GeneralPractice\n",
       "13          Family/GeneralPractice\n",
       "17                      Cardiology\n",
       "                    ...           \n",
       "101732            Emergency/Trauma\n",
       "101740            Emergency/Trauma\n",
       "101744            InternalMedicine\n",
       "101746                 Orthopedics\n",
       "101761             Surgery-General\n",
       "Name: medical_specialty, Length: 51816, dtype: object"
      ]
     },
     "execution_count": 18,
     "metadata": {},
     "output_type": "execute_result"
    }
   ],
   "source": [
    "specialty = df.loc[df['medical_specialty'] != '?']['medical_specialty']\n",
    "specialty"
   ]
  },
  {
   "cell_type": "code",
   "execution_count": 19,
   "id": "2ae4689a",
   "metadata": {},
   "outputs": [
    {
     "data": {
      "text/plain": [
       "InternalMedicine          14635\n",
       "Emergency/Trauma           7565\n",
       "Family/GeneralPractice     7440\n",
       "Cardiology                 5351\n",
       "Surgery-General            3099\n",
       "Name: medical_specialty, dtype: int64"
      ]
     },
     "execution_count": 19,
     "metadata": {},
     "output_type": "execute_result"
    }
   ],
   "source": [
    "specialty_sort = specialty.value_counts()[:5]\n",
    "specialty_sort"
   ]
  },
  {
   "cell_type": "code",
   "execution_count": 20,
   "id": "5f6384ad",
   "metadata": {},
   "outputs": [
    {
     "data": {
      "text/plain": [
       "InternalMedicine          6288\n",
       "Emergency/Trauma          3483\n",
       "Family/GeneralPractice    3248\n",
       "Cardiology                2975\n",
       "Surgery-General           1472\n",
       "Name: medical_specialty, dtype: int64"
      ]
     },
     "execution_count": 20,
     "metadata": {},
     "output_type": "execute_result"
    }
   ],
   "source": [
    "spec_male = df[(df['gender'] == 'Male') & df['medical_specialty'].isin(specialty_sort.index)]['medical_specialty'].value_counts()\n",
    "spec_male"
   ]
  },
  {
   "cell_type": "code",
   "execution_count": null,
   "id": "4549932b",
   "metadata": {},
   "outputs": [],
   "source": []
  },
  {
   "cell_type": "code",
   "execution_count": 21,
   "id": "f5767328",
   "metadata": {},
   "outputs": [
    {
     "data": {
      "text/plain": [
       "[70-80)     714\n",
       "[60-70)     638\n",
       "[80-90)     461\n",
       "[50-60)     417\n",
       "[40-50)     242\n",
       "[30-40)      75\n",
       "[90-100)     60\n",
       "[20-30)      14\n",
       "[10-20)       6\n",
       "Name: age, dtype: int64"
      ]
     },
     "execution_count": 21,
     "metadata": {},
     "output_type": "execute_result"
    }
   ],
   "source": [
    "df[(df['gender'] == 'Male') & (df['time_in_hospital'] == 7)]['age'].value_counts()"
   ]
  },
  {
   "cell_type": "code",
   "execution_count": 22,
   "id": "96b47e0c",
   "metadata": {},
   "outputs": [
    {
     "data": {
      "text/plain": [
       "3     17756\n",
       "2     17224\n",
       "1     14206\n",
       "4     13924\n",
       "5      9966\n",
       "6      7539\n",
       "7      5859\n",
       "8      4390\n",
       "9      3002\n",
       "10     2342\n",
       "11     1855\n",
       "12     1448\n",
       "13     1210\n",
       "14     1042\n",
       "Name: time_in_hospital, dtype: int64"
      ]
     },
     "execution_count": 22,
     "metadata": {},
     "output_type": "execute_result"
    }
   ],
   "source": [
    "tt = df['time_in_hospital'].value_counts()\n",
    "tt"
   ]
  },
  {
   "cell_type": "code",
   "execution_count": 23,
   "id": "81df9bb3",
   "metadata": {},
   "outputs": [
    {
     "data": {
      "text/plain": [
       "range(0, 14)"
      ]
     },
     "execution_count": 23,
     "metadata": {},
     "output_type": "execute_result"
    }
   ],
   "source": [
    "range(len(tt))"
   ]
  },
  {
   "cell_type": "code",
   "execution_count": 24,
   "id": "a2d1323c",
   "metadata": {},
   "outputs": [
    {
     "data": {
      "text/plain": [
       "array([ 3,  2,  1,  4,  5,  6,  7,  8,  9, 10, 11, 12, 13, 14],\n",
       "      dtype=int64)"
      ]
     },
     "execution_count": 24,
     "metadata": {},
     "output_type": "execute_result"
    }
   ],
   "source": [
    "np.array(tt.index)"
   ]
  },
  {
   "cell_type": "code",
   "execution_count": null,
   "id": "c19c22d5",
   "metadata": {},
   "outputs": [],
   "source": []
  },
  {
   "cell_type": "code",
   "execution_count": null,
   "id": "90f855c0",
   "metadata": {},
   "outputs": [],
   "source": []
  },
  {
   "cell_type": "code",
   "execution_count": 25,
   "id": "0016deec",
   "metadata": {},
   "outputs": [
    {
     "data": {
      "text/plain": [
       "AS7    4\n",
       "AS1    3\n",
       "AS5    2\n",
       "AS2    1\n",
       "Name: admission_source_id_new, dtype: int64"
      ]
     },
     "execution_count": 25,
     "metadata": {},
     "output_type": "execute_result"
    }
   ],
   "source": [
    "df.loc[(df['age'].isin(['[0-10)', '[20-30)'])) & (df['time_in_hospital'] == 14)]['admission_source_id_new'].value_counts()"
   ]
  },
  {
   "cell_type": "code",
   "execution_count": 26,
   "id": "03ce5b51",
   "metadata": {},
   "outputs": [
    {
     "data": {
      "text/plain": [
       "AS2    1\n",
       "AS7    1\n",
       "Name: admission_source_id_new, dtype: int64"
      ]
     },
     "execution_count": 26,
     "metadata": {},
     "output_type": "execute_result"
    }
   ],
   "source": [
    "df.loc[(df['gender'] == 'Male') & (df['age'].isin(['[0-10)', '[20-30)'])) & (df['time_in_hospital'] == 14)]['admission_source_id_new'].value_counts()"
   ]
  },
  {
   "cell_type": "code",
   "execution_count": null,
   "id": "ea7dd3f8",
   "metadata": {},
   "outputs": [],
   "source": []
  },
  {
   "cell_type": "code",
   "execution_count": 27,
   "id": "9b7e785a",
   "metadata": {},
   "outputs": [],
   "source": [
    "nn = pd.Series(0)"
   ]
  },
  {
   "cell_type": "code",
   "execution_count": 28,
   "id": "a60cefc1",
   "metadata": {},
   "outputs": [
    {
     "data": {
      "text/plain": [
       "0    0\n",
       "dtype: int64"
      ]
     },
     "execution_count": 28,
     "metadata": {},
     "output_type": "execute_result"
    }
   ],
   "source": [
    "nn"
   ]
  },
  {
   "cell_type": "code",
   "execution_count": null,
   "id": "d066f72f",
   "metadata": {},
   "outputs": [],
   "source": []
  },
  {
   "cell_type": "code",
   "execution_count": 29,
   "id": "ef8672c5",
   "metadata": {},
   "outputs": [
    {
     "data": {
      "text/plain": [
       "Series([], dtype: int32)"
      ]
     },
     "execution_count": 29,
     "metadata": {},
     "output_type": "execute_result"
    }
   ],
   "source": [
    "pd.Series([], dtype=int)"
   ]
  },
  {
   "cell_type": "code",
   "execution_count": 30,
   "id": "7b896385",
   "metadata": {},
   "outputs": [],
   "source": [
    "num = [1,2]"
   ]
  },
  {
   "cell_type": "code",
   "execution_count": 31,
   "id": "d650c70c",
   "metadata": {},
   "outputs": [
    {
     "name": "stderr",
     "output_type": "stream",
     "text": [
      "C:\\Users\\DELL\\AppData\\Local\\Temp\\ipykernel_6620\\3928211226.py:1: FutureWarning: The default dtype for empty Series will be 'object' instead of 'float64' in a future version. Specify a dtype explicitly to silence this warning.\n",
      "  missing_addm_male = pd.Series([])\n",
      "C:\\Users\\DELL\\AppData\\Local\\Temp\\ipykernel_6620\\3928211226.py:5: FutureWarning: The series.append method is deprecated and will be removed from pandas in a future version. Use pandas.concat instead.\n",
      "  missing_addm_male = missing_addm_male.append(pd.Series(0))\n"
     ]
    }
   ],
   "source": [
    "missing_addm_male = pd.Series([])\n",
    "\n",
    "for i in num:\n",
    "\n",
    "    missing_addm_male = missing_addm_male.append(pd.Series(0))"
   ]
  },
  {
   "cell_type": "code",
   "execution_count": 32,
   "id": "24d4c274",
   "metadata": {},
   "outputs": [
    {
     "data": {
      "text/plain": [
       "0    0\n",
       "0    0\n",
       "dtype: int64"
      ]
     },
     "execution_count": 32,
     "metadata": {},
     "output_type": "execute_result"
    }
   ],
   "source": [
    "missing_addm_male"
   ]
  },
  {
   "cell_type": "code",
   "execution_count": 33,
   "id": "7c798ef0",
   "metadata": {},
   "outputs": [
    {
     "data": {
      "text/plain": [
       "1    0\n",
       "1    0\n",
       "dtype: int64"
      ]
     },
     "execution_count": 33,
     "metadata": {},
     "output_type": "execute_result"
    }
   ],
   "source": [
    "missing_addm_male.rename(index = {0: 1})"
   ]
  },
  {
   "cell_type": "code",
   "execution_count": null,
   "id": "4a4fe27f",
   "metadata": {},
   "outputs": [],
   "source": []
  },
  {
   "cell_type": "code",
   "execution_count": 34,
   "id": "c05f7dcc",
   "metadata": {},
   "outputs": [
    {
     "data": {
      "text/plain": [
       "AS1    3\n",
       "AS2    1\n",
       "AS5    2\n",
       "AS7    4\n",
       "Name: admission_source_id_new, dtype: int64"
      ]
     },
     "execution_count": 34,
     "metadata": {},
     "output_type": "execute_result"
    }
   ],
   "source": [
    "# Getting the top 5 admission source id\n",
    "addm = df.loc[(df['age'].isin(['[0-10)', '[20-30)'])) & \n",
    "              (df['time_in_hospital'] == 14)]['admission_source_id_new'].value_counts()[:5].sort_index()\n",
    "addm"
   ]
  },
  {
   "cell_type": "code",
   "execution_count": 35,
   "id": "fd4ee583",
   "metadata": {},
   "outputs": [
    {
     "data": {
      "text/plain": [
       "array(['AS1', 'AS2', 'AS5', 'AS7'], dtype=object)"
      ]
     },
     "execution_count": 35,
     "metadata": {},
     "output_type": "execute_result"
    }
   ],
   "source": [
    "# Getting the index value of the top 5 admission source id\n",
    "addm_index = np.array(addm.index)\n",
    "addm_index"
   ]
  },
  {
   "cell_type": "code",
   "execution_count": 36,
   "id": "0a75ba75",
   "metadata": {},
   "outputs": [
    {
     "data": {
      "text/plain": [
       "AS2    1\n",
       "AS7    1\n",
       "Name: admission_source_id_new, dtype: int64"
      ]
     },
     "execution_count": 36,
     "metadata": {},
     "output_type": "execute_result"
    }
   ],
   "source": [
    "# Getting the top 5 admission source id with its count for the male patients\n",
    "male_addm = df.loc[(df['gender'] == 'Male') & (df['age'].isin(['[0-10)', '[20-30)'])) & \n",
    "                   (df['time_in_hospital'] == 14)]['admission_source_id_new'].value_counts()\n",
    "male_addm"
   ]
  },
  {
   "cell_type": "code",
   "execution_count": 37,
   "id": "046ecf9e",
   "metadata": {},
   "outputs": [
    {
     "data": {
      "text/plain": [
       "AS1    3\n",
       "AS7    3\n",
       "AS5    2\n",
       "Name: admission_source_id_new, dtype: int64"
      ]
     },
     "execution_count": 37,
     "metadata": {},
     "output_type": "execute_result"
    }
   ],
   "source": [
    "# Getting the top 5 admission source id with its for the female patients\n",
    "female_addm = df.loc[(df['gender'] == 'Female') & (df['age'].isin(['[0-10)', '[20-30)'])) & \n",
    "                     (df['time_in_hospital'] == 14)]['admission_source_id_new'].value_counts()\n",
    "    \n",
    "female_addm"
   ]
  },
  {
   "cell_type": "code",
   "execution_count": 38,
   "id": "267976cd",
   "metadata": {},
   "outputs": [
    {
     "name": "stderr",
     "output_type": "stream",
     "text": [
      "C:\\Users\\DELL\\AppData\\Local\\Temp\\ipykernel_6620\\803865754.py:3: FutureWarning: The default dtype for empty Series will be 'object' instead of 'float64' in a future version. Specify a dtype explicitly to silence this warning.\n",
      "  missing_addm_male = pd.Series([])\n",
      "C:\\Users\\DELL\\AppData\\Local\\Temp\\ipykernel_6620\\803865754.py:11: FutureWarning: The series.append method is deprecated and will be removed from pandas in a future version. Use pandas.concat instead.\n",
      "  missing_addm_male = missing_addm_male.append(pd.Series(0))\n"
     ]
    }
   ],
   "source": [
    "if (len(male_addm) != len(addm_index)) & (len(female_addm) != len(addm_index)):\n",
    "    \n",
    "    missing_addm_male = pd.Series([])\n",
    "    \n",
    "    m_val = []\n",
    "    \n",
    "    for i in addm_index:\n",
    "        \n",
    "        if i not in male_addm.index:\n",
    "            \n",
    "            missing_addm_male = missing_addm_male.append(pd.Series(0))\n",
    "            \n",
    "            #missing_addm_male = missing_addm_male.rename(index={0: i})\n",
    "            \n",
    "#male_addm = pd.concat([missing_addm_male, male_addm])"
   ]
  },
  {
   "cell_type": "code",
   "execution_count": 39,
   "id": "9add7c30",
   "metadata": {},
   "outputs": [
    {
     "data": {
      "text/plain": [
       "0    0\n",
       "0    0\n",
       "dtype: int64"
      ]
     },
     "execution_count": 39,
     "metadata": {},
     "output_type": "execute_result"
    }
   ],
   "source": [
    "missing_addm_male"
   ]
  },
  {
   "cell_type": "code",
   "execution_count": 40,
   "id": "372fe139",
   "metadata": {},
   "outputs": [
    {
     "data": {
      "text/plain": [
       "0    0\n",
       "0    0\n",
       "dtype: int64"
      ]
     },
     "execution_count": 40,
     "metadata": {},
     "output_type": "execute_result"
    }
   ],
   "source": [
    "missing_addm_male"
   ]
  },
  {
   "cell_type": "code",
   "execution_count": 41,
   "id": "c8a76d9a",
   "metadata": {},
   "outputs": [
    {
     "data": {
      "text/plain": [
       "AS2    1\n",
       "AS7    1\n",
       "Name: admission_source_id_new, dtype: int64"
      ]
     },
     "execution_count": 41,
     "metadata": {},
     "output_type": "execute_result"
    }
   ],
   "source": [
    "male_addm"
   ]
  },
  {
   "cell_type": "code",
   "execution_count": null,
   "id": "3fda3dde",
   "metadata": {},
   "outputs": [],
   "source": []
  },
  {
   "cell_type": "code",
   "execution_count": 42,
   "id": "3e10e583",
   "metadata": {},
   "outputs": [
    {
     "name": "stderr",
     "output_type": "stream",
     "text": [
      "C:\\Users\\DELL\\AppData\\Local\\Temp\\ipykernel_6620\\4063646245.py:3: FutureWarning: The default dtype for empty Series will be 'object' instead of 'float64' in a future version. Specify a dtype explicitly to silence this warning.\n",
      "  missing_addm_female = pd.Series([])\n",
      "C:\\Users\\DELL\\AppData\\Local\\Temp\\ipykernel_6620\\4063646245.py:9: FutureWarning: The series.append method is deprecated and will be removed from pandas in a future version. Use pandas.concat instead.\n",
      "  missing_addm_female = missing_addm_female.append(pd.Series(0))\n"
     ]
    }
   ],
   "source": [
    "if (len(female_addm) != len(addm_index)) & (len(male_addm) != len(addm_index)):\n",
    "    \n",
    "    missing_addm_female = pd.Series([])\n",
    "\n",
    "    for i in addm_index:\n",
    "\n",
    "        if i not in female_addm.index:\n",
    "\n",
    "            missing_addm_female = missing_addm_female.append(pd.Series(0))\n",
    "            \n",
    "            missing_addm_female = missing_addm_female.rename(index={0: i})\n",
    "\n",
    "female_addm = pd.concat([missing_addm_female, female_addm])            "
   ]
  },
  {
   "cell_type": "code",
   "execution_count": 43,
   "id": "900ad8ef",
   "metadata": {},
   "outputs": [
    {
     "data": {
      "text/plain": [
       "AS2    0\n",
       "dtype: int64"
      ]
     },
     "execution_count": 43,
     "metadata": {},
     "output_type": "execute_result"
    }
   ],
   "source": [
    "missing_addm_female"
   ]
  },
  {
   "cell_type": "code",
   "execution_count": 44,
   "id": "b17afeec",
   "metadata": {},
   "outputs": [],
   "source": [
    "female_addm = pd.concat([missing_addm_female, female_addm])\n",
    "\n"
   ]
  },
  {
   "cell_type": "code",
   "execution_count": 45,
   "id": "aa9f74c5",
   "metadata": {},
   "outputs": [
    {
     "data": {
      "text/plain": [
       "AS2    0\n",
       "AS2    0\n",
       "AS1    3\n",
       "AS7    3\n",
       "AS5    2\n",
       "dtype: int64"
      ]
     },
     "execution_count": 45,
     "metadata": {},
     "output_type": "execute_result"
    }
   ],
   "source": [
    "female_addm"
   ]
  },
  {
   "cell_type": "code",
   "execution_count": null,
   "id": "3aa2e05f",
   "metadata": {},
   "outputs": [],
   "source": []
  },
  {
   "cell_type": "code",
   "execution_count": 46,
   "id": "c2cdfb10",
   "metadata": {},
   "outputs": [
    {
     "data": {
      "text/plain": [
       "AS7    18\n",
       "AS1     9\n",
       "AS5     3\n",
       "AS4     1\n",
       "Name: admission_source_id_new, dtype: int64"
      ]
     },
     "execution_count": 46,
     "metadata": {},
     "output_type": "execute_result"
    }
   ],
   "source": [
    "# Getting the top 5 admission source id with its count for the male patients\n",
    "addm = df.loc[(df['gender'] == 'Female') & (df['age'].isin(['[0-10)', '[20-30)', '[90-100)'])) & \n",
    "                   (df['time_in_hospital'] == 14)]['admission_source_id_new'].value_counts()\n",
    "addm"
   ]
  },
  {
   "cell_type": "code",
   "execution_count": 47,
   "id": "e7106627",
   "metadata": {},
   "outputs": [
    {
     "data": {
      "text/plain": [
       "AS7    3\n",
       "AS1    2\n",
       "AS2    1\n",
       "Name: admission_source_id_new, dtype: int64"
      ]
     },
     "execution_count": 47,
     "metadata": {},
     "output_type": "execute_result"
    }
   ],
   "source": [
    "# Getting the top 5 admission source id with its count for the male patients\n",
    "addm = df.loc[(df['gender'] == 'Male') & (df['age'].isin(['[0-10)', '[20-30)', '[90-100)'])) & \n",
    "                   (df['time_in_hospital'] == 14)]['admission_source_id_new'].value_counts()\n",
    "addm"
   ]
  },
  {
   "cell_type": "code",
   "execution_count": 48,
   "id": "dfd683f1",
   "metadata": {},
   "outputs": [
    {
     "data": {
      "text/plain": [
       "AS7    21\n",
       "AS1    11\n",
       "AS5     3\n",
       "AS2     1\n",
       "AS4     1\n",
       "Name: admission_source_id_new, dtype: int64"
      ]
     },
     "execution_count": 48,
     "metadata": {},
     "output_type": "execute_result"
    }
   ],
   "source": [
    "# Getting the top 5 admission source id with its count for the male patients\n",
    "addm = df.loc[(df['age'].isin(['[0-10)', '[20-30)', '[90-100)'])) & \n",
    "                   (df['time_in_hospital'] == 14)]['admission_source_id_new'].value_counts()\n",
    "addm"
   ]
  },
  {
   "cell_type": "code",
   "execution_count": null,
   "id": "a0843c19",
   "metadata": {},
   "outputs": [],
   "source": []
  },
  {
   "cell_type": "code",
   "execution_count": null,
   "id": "187fd8f4",
   "metadata": {},
   "outputs": [],
   "source": []
  },
  {
   "cell_type": "code",
   "execution_count": 49,
   "id": "0cc7a65c",
   "metadata": {},
   "outputs": [
    {
     "data": {
      "image/png": "[encoded data removed]",
      "text/plain": [
       "<Figure size 640x480 with 1 Axes>"
      ]
     },
     "metadata": {},
     "output_type": "display_data"
    }
   ],
   "source": [
    "# Data for the pie chart\n",
    "labels = ['Red', 'Orange', 'Yellow', 'Green', 'Blue']\n",
    "sizes = [20, 10, 30, 25, 15]\n",
    "\n",
    "# Define custom colors for each slice\n",
    "colors = ['#ff9999', '#ffc000', '#8fd9b6', '#d9b68c', '#8fbbd9']\n",
    "\n",
    "# Create the pie chart\n",
    "fig, ax = plt.subplots()\n",
    "ax.pie(sizes, labels=labels, autopct='%1.1f%%', startangle=90, colors=colors)\n",
    "\n",
    "# Add a title\n",
    "ax.set_title('Pie Chart with 5 Categories')\n",
    "\n",
    "# Show the chart\n",
    "plt.show()\n"
   ]
  },
  {
   "cell_type": "code",
   "execution_count": 50,
   "id": "2977ac95",
   "metadata": {},
   "outputs": [
    {
     "data": {
      "image/png": "[encoded data removed]",
      "text/plain": [
       "<Figure size 1800x400 with 5 Axes>"
      ]
     },
     "metadata": {},
     "output_type": "display_data"
    }
   ],
   "source": [
    "# Data for the pie chart\n",
    "labels = ['A', 'B', 'C', 'D', 'E']\n",
    "sizes = [25, 20, 15, 20, 20]\n",
    "\n",
    "# Example color codes\n",
    "colors1 = ['#E74C3C', '#8E44AD', '#3498DB', '#27AE60', '#F1C40F']\n",
    "colors2 = ['#1ABC9C', '#2ECC71', '#3498DB', '#9B59B6', '#34495E']\n",
    "colors3 = ['#9B59B6', '#3498DB', '#F1C40F', '#E74C3C', '#2C3E50']\n",
    "colors4 = ['#2980B9', '#1ABC9C', '#27AE60', '#F39C12', '#E74C3C']\n",
    "colors5 = ['#F1C40F', '#2ECC71', '#3498DB', '#E67E22', '#E74C3C']\n",
    "\n",
    "# Create subplots for each example\n",
    "fig, axs = plt.subplots(1, 5, figsize=(18, 4))\n",
    "\n",
    "# Plot each example on a separate subplot\n",
    "for i, colors in enumerate([colors1, colors2, colors3, colors4, colors5]):\n",
    "    axs[i].pie(sizes, labels=labels, autopct='%1.1f%%', startangle=90, colors=colors)\n",
    "    axs[i].set_title(f'Example {i+1}')\n",
    "\n",
    "# Display the chart\n",
    "plt.show()\n"
   ]
  },
  {
   "cell_type": "code",
   "execution_count": 51,
   "id": "5ee44e19",
   "metadata": {},
   "outputs": [
    {
     "data": {
      "image/png": "[encoded data removed]",
      "text/plain": [
       "<Figure size 1800x400 with 5 Axes>"
      ]
     },
     "metadata": {},
     "output_type": "display_data"
    }
   ],
   "source": [
    "# Data for the pie chart\n",
    "labels = ['Category 1', 'Category 2', 'Category 3', 'Category 4', 'Category 5']\n",
    "sizes = [20, 10, 15, 30, 25]\n",
    "\n",
    "# Example color codes\n",
    "colors1 = ['#3498DB', '#2ECC71', '#F1C40F', '#E74C3C', '#9B59B6']\n",
    "colors2 = ['#F1C40F', '#E74C3C', '#2980B9', '#2C3E50', '#27AE60']\n",
    "colors3 = ['#8E44AD', '#2C3E50', '#E67E22', '#3498DB', '#27AE60']\n",
    "colors4 = ['#1ABC9C', '#2ECC71', '#E74C3C', '#9B59B6', '#34495E']\n",
    "colors5 = ['#F39C12', '#3498DB', '#E67E22', '#2C3E50', '#16A085']\n",
    "\n",
    "# Create subplots for each example\n",
    "fig, axs = plt.subplots(1, 5, figsize=(18, 4))\n",
    "\n",
    "# Plot each example on a separate subplot\n",
    "for i, colors in enumerate([colors1, colors2, colors3, colors4, colors5]):\n",
    "    axs[i].pie(sizes, labels=labels, autopct='%1.1f%%', startangle=90, colors=colors)\n",
    "    axs[i].set_title(f'Example {i+1}')\n",
    "\n",
    "# Display the chart\n",
    "plt.show()\n"
   ]
  },
  {
   "cell_type": "code",
   "execution_count": null,
   "id": "af4798cb",
   "metadata": {},
   "outputs": [],
   "source": []
  },
  {
   "cell_type": "code",
   "execution_count": 52,
   "id": "82605449",
   "metadata": {},
   "outputs": [
    {
     "data": {
      "text/html": [
       "<div>\n",
       "<style scoped>\n",
       "    .dataframe tbody tr th:only-of-type {\n",
       "        vertical-align: middle;\n",
       "    }\n",
       "\n",
       "    .dataframe tbody tr th {\n",
       "        vertical-align: top;\n",
       "    }\n",
       "\n",
       "    .dataframe thead th {\n",
       "        text-align: right;\n",
       "    }\n",
       "</style>\n",
       "<table border=\"1\" class=\"dataframe\">\n",
       "  <thead>\n",
       "    <tr style=\"text-align: right;\">\n",
       "      <th></th>\n",
       "      <th>encounter_id</th>\n",
       "      <th>patient_nbr</th>\n",
       "      <th>race</th>\n",
       "      <th>gender</th>\n",
       "      <th>age</th>\n",
       "      <th>admission_type_id</th>\n",
       "      <th>discharge_disposition_id</th>\n",
       "      <th>discharge_disposition_id_new</th>\n",
       "      <th>admission_source_id</th>\n",
       "      <th>admission_source_id_new</th>\n",
       "      <th>...</th>\n",
       "      <th>citoglipton</th>\n",
       "      <th>insulin</th>\n",
       "      <th>glyburide-metformin</th>\n",
       "      <th>glipizide-metformin</th>\n",
       "      <th>glimepiride-pioglitazone</th>\n",
       "      <th>metformin-rosiglitazone</th>\n",
       "      <th>metformin-pioglitazone</th>\n",
       "      <th>change</th>\n",
       "      <th>diabetesMed</th>\n",
       "      <th>readmitted</th>\n",
       "    </tr>\n",
       "  </thead>\n",
       "  <tbody>\n",
       "    <tr>\n",
       "      <th>0</th>\n",
       "      <td>2278392</td>\n",
       "      <td>8222157</td>\n",
       "      <td>Caucasian</td>\n",
       "      <td>Female</td>\n",
       "      <td>[0-10)</td>\n",
       "      <td>NaN</td>\n",
       "      <td>Not Mapped</td>\n",
       "      <td>D25</td>\n",
       "      <td>Physician Referral</td>\n",
       "      <td>AS1</td>\n",
       "      <td>...</td>\n",
       "      <td>No</td>\n",
       "      <td>No</td>\n",
       "      <td>No</td>\n",
       "      <td>No</td>\n",
       "      <td>No</td>\n",
       "      <td>No</td>\n",
       "      <td>No</td>\n",
       "      <td>No</td>\n",
       "      <td>No</td>\n",
       "      <td>NO</td>\n",
       "    </tr>\n",
       "    <tr>\n",
       "      <th>1</th>\n",
       "      <td>149190</td>\n",
       "      <td>55629189</td>\n",
       "      <td>Caucasian</td>\n",
       "      <td>Female</td>\n",
       "      <td>[10-20)</td>\n",
       "      <td>Emergency</td>\n",
       "      <td>Discharged to home</td>\n",
       "      <td>D1</td>\n",
       "      <td>Emergency Room</td>\n",
       "      <td>AS7</td>\n",
       "      <td>...</td>\n",
       "      <td>No</td>\n",
       "      <td>Up</td>\n",
       "      <td>No</td>\n",
       "      <td>No</td>\n",
       "      <td>No</td>\n",
       "      <td>No</td>\n",
       "      <td>No</td>\n",
       "      <td>Ch</td>\n",
       "      <td>Yes</td>\n",
       "      <td>&gt;30</td>\n",
       "    </tr>\n",
       "    <tr>\n",
       "      <th>2</th>\n",
       "      <td>64410</td>\n",
       "      <td>86047875</td>\n",
       "      <td>AfricanAmerican</td>\n",
       "      <td>Female</td>\n",
       "      <td>[20-30)</td>\n",
       "      <td>Emergency</td>\n",
       "      <td>Discharged to home</td>\n",
       "      <td>D1</td>\n",
       "      <td>Emergency Room</td>\n",
       "      <td>AS7</td>\n",
       "      <td>...</td>\n",
       "      <td>No</td>\n",
       "      <td>No</td>\n",
       "      <td>No</td>\n",
       "      <td>No</td>\n",
       "      <td>No</td>\n",
       "      <td>No</td>\n",
       "      <td>No</td>\n",
       "      <td>No</td>\n",
       "      <td>Yes</td>\n",
       "      <td>NO</td>\n",
       "    </tr>\n",
       "    <tr>\n",
       "      <th>3</th>\n",
       "      <td>500364</td>\n",
       "      <td>82442376</td>\n",
       "      <td>Caucasian</td>\n",
       "      <td>Male</td>\n",
       "      <td>[30-40)</td>\n",
       "      <td>Emergency</td>\n",
       "      <td>Discharged to home</td>\n",
       "      <td>D1</td>\n",
       "      <td>Emergency Room</td>\n",
       "      <td>AS7</td>\n",
       "      <td>...</td>\n",
       "      <td>No</td>\n",
       "      <td>Up</td>\n",
       "      <td>No</td>\n",
       "      <td>No</td>\n",
       "      <td>No</td>\n",
       "      <td>No</td>\n",
       "      <td>No</td>\n",
       "      <td>Ch</td>\n",
       "      <td>Yes</td>\n",
       "      <td>NO</td>\n",
       "    </tr>\n",
       "    <tr>\n",
       "      <th>4</th>\n",
       "      <td>16680</td>\n",
       "      <td>42519267</td>\n",
       "      <td>Caucasian</td>\n",
       "      <td>Male</td>\n",
       "      <td>[40-50)</td>\n",
       "      <td>Emergency</td>\n",
       "      <td>Discharged to home</td>\n",
       "      <td>D1</td>\n",
       "      <td>Emergency Room</td>\n",
       "      <td>AS7</td>\n",
       "      <td>...</td>\n",
       "      <td>No</td>\n",
       "      <td>Steady</td>\n",
       "      <td>No</td>\n",
       "      <td>No</td>\n",
       "      <td>No</td>\n",
       "      <td>No</td>\n",
       "      <td>No</td>\n",
       "      <td>Ch</td>\n",
       "      <td>Yes</td>\n",
       "      <td>NO</td>\n",
       "    </tr>\n",
       "    <tr>\n",
       "      <th>...</th>\n",
       "      <td>...</td>\n",
       "      <td>...</td>\n",
       "      <td>...</td>\n",
       "      <td>...</td>\n",
       "      <td>...</td>\n",
       "      <td>...</td>\n",
       "      <td>...</td>\n",
       "      <td>...</td>\n",
       "      <td>...</td>\n",
       "      <td>...</td>\n",
       "      <td>...</td>\n",
       "      <td>...</td>\n",
       "      <td>...</td>\n",
       "      <td>...</td>\n",
       "      <td>...</td>\n",
       "      <td>...</td>\n",
       "      <td>...</td>\n",
       "      <td>...</td>\n",
       "      <td>...</td>\n",
       "      <td>...</td>\n",
       "      <td>...</td>\n",
       "    </tr>\n",
       "    <tr>\n",
       "      <th>101758</th>\n",
       "      <td>443847548</td>\n",
       "      <td>100162476</td>\n",
       "      <td>AfricanAmerican</td>\n",
       "      <td>Male</td>\n",
       "      <td>[70-80)</td>\n",
       "      <td>Emergency</td>\n",
       "      <td>Discharged/transferred to SNF</td>\n",
       "      <td>D3</td>\n",
       "      <td>Emergency Room</td>\n",
       "      <td>AS7</td>\n",
       "      <td>...</td>\n",
       "      <td>No</td>\n",
       "      <td>Down</td>\n",
       "      <td>No</td>\n",
       "      <td>No</td>\n",
       "      <td>No</td>\n",
       "      <td>No</td>\n",
       "      <td>No</td>\n",
       "      <td>Ch</td>\n",
       "      <td>Yes</td>\n",
       "      <td>&gt;30</td>\n",
       "    </tr>\n",
       "    <tr>\n",
       "      <th>101759</th>\n",
       "      <td>443847782</td>\n",
       "      <td>74694222</td>\n",
       "      <td>AfricanAmerican</td>\n",
       "      <td>Female</td>\n",
       "      <td>[80-90)</td>\n",
       "      <td>Emergency</td>\n",
       "      <td>Discharged/transferred to ICF</td>\n",
       "      <td>D4</td>\n",
       "      <td>Transfer from a Skilled Nursing Facility (SNF)</td>\n",
       "      <td>AS5</td>\n",
       "      <td>...</td>\n",
       "      <td>No</td>\n",
       "      <td>Steady</td>\n",
       "      <td>No</td>\n",
       "      <td>No</td>\n",
       "      <td>No</td>\n",
       "      <td>No</td>\n",
       "      <td>No</td>\n",
       "      <td>No</td>\n",
       "      <td>Yes</td>\n",
       "      <td>NO</td>\n",
       "    </tr>\n",
       "    <tr>\n",
       "      <th>101760</th>\n",
       "      <td>443854148</td>\n",
       "      <td>41088789</td>\n",
       "      <td>Caucasian</td>\n",
       "      <td>Male</td>\n",
       "      <td>[70-80)</td>\n",
       "      <td>Emergency</td>\n",
       "      <td>Discharged to home</td>\n",
       "      <td>D1</td>\n",
       "      <td>Emergency Room</td>\n",
       "      <td>AS7</td>\n",
       "      <td>...</td>\n",
       "      <td>No</td>\n",
       "      <td>Down</td>\n",
       "      <td>No</td>\n",
       "      <td>No</td>\n",
       "      <td>No</td>\n",
       "      <td>No</td>\n",
       "      <td>No</td>\n",
       "      <td>Ch</td>\n",
       "      <td>Yes</td>\n",
       "      <td>NO</td>\n",
       "    </tr>\n",
       "    <tr>\n",
       "      <th>101761</th>\n",
       "      <td>443857166</td>\n",
       "      <td>31693671</td>\n",
       "      <td>Caucasian</td>\n",
       "      <td>Female</td>\n",
       "      <td>[80-90)</td>\n",
       "      <td>Urgent</td>\n",
       "      <td>Discharged/transferred to SNF</td>\n",
       "      <td>D3</td>\n",
       "      <td>Emergency Room</td>\n",
       "      <td>AS7</td>\n",
       "      <td>...</td>\n",
       "      <td>No</td>\n",
       "      <td>Up</td>\n",
       "      <td>No</td>\n",
       "      <td>No</td>\n",
       "      <td>No</td>\n",
       "      <td>No</td>\n",
       "      <td>No</td>\n",
       "      <td>Ch</td>\n",
       "      <td>Yes</td>\n",
       "      <td>NO</td>\n",
       "    </tr>\n",
       "    <tr>\n",
       "      <th>101762</th>\n",
       "      <td>443867222</td>\n",
       "      <td>175429310</td>\n",
       "      <td>Caucasian</td>\n",
       "      <td>Male</td>\n",
       "      <td>[70-80)</td>\n",
       "      <td>Emergency</td>\n",
       "      <td>Discharged to home</td>\n",
       "      <td>D1</td>\n",
       "      <td>Emergency Room</td>\n",
       "      <td>AS7</td>\n",
       "      <td>...</td>\n",
       "      <td>No</td>\n",
       "      <td>No</td>\n",
       "      <td>No</td>\n",
       "      <td>No</td>\n",
       "      <td>No</td>\n",
       "      <td>No</td>\n",
       "      <td>No</td>\n",
       "      <td>No</td>\n",
       "      <td>No</td>\n",
       "      <td>NO</td>\n",
       "    </tr>\n",
       "  </tbody>\n",
       "</table>\n",
       "<p>101763 rows × 50 columns</p>\n",
       "</div>"
      ],
      "text/plain": [
       "        encounter_id  patient_nbr             race  gender      age  \\\n",
       "0            2278392      8222157        Caucasian  Female   [0-10)   \n",
       "1             149190     55629189        Caucasian  Female  [10-20)   \n",
       "2              64410     86047875  AfricanAmerican  Female  [20-30)   \n",
       "3             500364     82442376        Caucasian    Male  [30-40)   \n",
       "4              16680     42519267        Caucasian    Male  [40-50)   \n",
       "...              ...          ...              ...     ...      ...   \n",
       "101758     443847548    100162476  AfricanAmerican    Male  [70-80)   \n",
       "101759     443847782     74694222  AfricanAmerican  Female  [80-90)   \n",
       "101760     443854148     41088789        Caucasian    Male  [70-80)   \n",
       "101761     443857166     31693671        Caucasian  Female  [80-90)   \n",
       "101762     443867222    175429310        Caucasian    Male  [70-80)   \n",
       "\n",
       "       admission_type_id       discharge_disposition_id  \\\n",
       "0                    NaN                     Not Mapped   \n",
       "1              Emergency             Discharged to home   \n",
       "2              Emergency             Discharged to home   \n",
       "3              Emergency             Discharged to home   \n",
       "4              Emergency             Discharged to home   \n",
       "...                  ...                            ...   \n",
       "101758         Emergency  Discharged/transferred to SNF   \n",
       "101759         Emergency  Discharged/transferred to ICF   \n",
       "101760         Emergency             Discharged to home   \n",
       "101761            Urgent  Discharged/transferred to SNF   \n",
       "101762         Emergency             Discharged to home   \n",
       "\n",
       "       discharge_disposition_id_new  \\\n",
       "0                               D25   \n",
       "1                                D1   \n",
       "2                                D1   \n",
       "3                                D1   \n",
       "4                                D1   \n",
       "...                             ...   \n",
       "101758                           D3   \n",
       "101759                           D4   \n",
       "101760                           D1   \n",
       "101761                           D3   \n",
       "101762                           D1   \n",
       "\n",
       "                                   admission_source_id  \\\n",
       "0                                   Physician Referral   \n",
       "1                                       Emergency Room   \n",
       "2                                       Emergency Room   \n",
       "3                                       Emergency Room   \n",
       "4                                       Emergency Room   \n",
       "...                                                ...   \n",
       "101758                                  Emergency Room   \n",
       "101759  Transfer from a Skilled Nursing Facility (SNF)   \n",
       "101760                                  Emergency Room   \n",
       "101761                                  Emergency Room   \n",
       "101762                                  Emergency Room   \n",
       "\n",
       "       admission_source_id_new  ...  citoglipton insulin  glyburide-metformin  \\\n",
       "0                          AS1  ...           No      No                   No   \n",
       "1                          AS7  ...           No      Up                   No   \n",
       "2                          AS7  ...           No      No                   No   \n",
       "3                          AS7  ...           No      Up                   No   \n",
       "4                          AS7  ...           No  Steady                   No   \n",
       "...                        ...  ...          ...     ...                  ...   \n",
       "101758                     AS7  ...           No    Down                   No   \n",
       "101759                     AS5  ...           No  Steady                   No   \n",
       "101760                     AS7  ...           No    Down                   No   \n",
       "101761                     AS7  ...           No      Up                   No   \n",
       "101762                     AS7  ...           No      No                   No   \n",
       "\n",
       "        glipizide-metformin  glimepiride-pioglitazone  \\\n",
       "0                        No                        No   \n",
       "1                        No                        No   \n",
       "2                        No                        No   \n",
       "3                        No                        No   \n",
       "4                        No                        No   \n",
       "...                     ...                       ...   \n",
       "101758                   No                        No   \n",
       "101759                   No                        No   \n",
       "101760                   No                        No   \n",
       "101761                   No                        No   \n",
       "101762                   No                        No   \n",
       "\n",
       "        metformin-rosiglitazone  metformin-pioglitazone  change diabetesMed  \\\n",
       "0                            No                      No      No          No   \n",
       "1                            No                      No      Ch         Yes   \n",
       "2                            No                      No      No         Yes   \n",
       "3                            No                      No      Ch         Yes   \n",
       "4                            No                      No      Ch         Yes   \n",
       "...                         ...                     ...     ...         ...   \n",
       "101758                       No                      No      Ch         Yes   \n",
       "101759                       No                      No      No         Yes   \n",
       "101760                       No                      No      Ch         Yes   \n",
       "101761                       No                      No      Ch         Yes   \n",
       "101762                       No                      No      No          No   \n",
       "\n",
       "       readmitted  \n",
       "0              NO  \n",
       "1             >30  \n",
       "2              NO  \n",
       "3              NO  \n",
       "4              NO  \n",
       "...           ...  \n",
       "101758        >30  \n",
       "101759         NO  \n",
       "101760         NO  \n",
       "101761         NO  \n",
       "101762         NO  \n",
       "\n",
       "[101763 rows x 50 columns]"
      ]
     },
     "execution_count": 52,
     "metadata": {},
     "output_type": "execute_result"
    }
   ],
   "source": [
    "df"
   ]
  },
  {
   "cell_type": "code",
   "execution_count": 53,
   "id": "3d1f7106",
   "metadata": {},
   "outputs": [],
   "source": [
    "# Getting the value counts for the ages and sorted\n",
    "age_cat = df['age'].value_counts().sort_index()\n",
    "\n",
    "# Getting the index value of the ages\n",
    "age_index = np.array(age_cat.index)\n",
    "\n",
    "# Getting the age category for the males and getting the value counts for its age index\n",
    "# and sorting the values to display the age category in order\n",
    "age_male = df.loc[(df['gender'] == 'Male') &\n",
    "                      (df['age'].isin(age_index))]['age'].value_counts().sort_index()\n",
    "\n",
    "# Getting the age category for the females and getting the value counts for its age index\n",
    "age_female = df.loc[(df['gender'] == 'Female') &\n",
    "                        (df['age'].isin(age_index))]['age'].value_counts().sort_index()"
   ]
  },
  {
   "cell_type": "code",
   "execution_count": 54,
   "id": "91224db3",
   "metadata": {},
   "outputs": [
    {
     "data": {
      "image/png": "[encoded data removed]",
      "text/plain": [
       "<Figure size 500x540 with 1 Axes>"
      ]
     },
     "metadata": {},
     "output_type": "display_data"
    }
   ],
   "source": [
    "fig = plt.figure(figsize=(5, 5.4), facecolor='#17123B')\n",
    "            \n",
    "ax = fig.add_subplot()\n",
    "\n",
    "x = np.arange(1, len(age_cat) + 1)\n",
    "\n",
    "# Plotting line\n",
    "ax.bar(x - 0.1, age_male, width=0.2, label='Male', color='#53C9F2')\n",
    "ax.bar(x + 0.1, age_female, width=0.2, label='Female', color='#55D047')\n",
    "\n",
    "# Setting title\n",
    "# ax.set_title('Number of Visited Patients in each Age category')\n",
    "\n",
    "# setting labels\n",
    "ax.set_xlabel('Age Category', labelpad=10, fontdict = {'color': 'w'})\n",
    "ax.set_ylabel('Number of Patients', labelpad=10, fontdict = {'color': 'w'})\n",
    "\n",
    "# setting ticks\n",
    "ax.set_xticks(range(1, len(age_cat) + 1))\n",
    "ax.set_xticklabels(age_index, rotation=90)\n",
    "ax.tick_params(axis='x', colors='w')\n",
    "ax.tick_params(axis='y', colors='w')\n",
    "\n",
    "# setting legend\n",
    "ax.legend()\n",
    "\n",
    "plt.show()"
   ]
  },
  {
   "cell_type": "code",
   "execution_count": null,
   "id": "829ce985",
   "metadata": {},
   "outputs": [],
   "source": []
  },
  {
   "cell_type": "code",
   "execution_count": 55,
   "id": "7b7db684",
   "metadata": {},
   "outputs": [
    {
     "data": {
      "image/png": "[encoded data removed]",
      "text/plain": [
       "<Figure size 640x480 with 1 Axes>"
      ]
     },
     "metadata": {},
     "output_type": "display_data"
    }
   ],
   "source": [
    "max_glu_serum = df.loc[df['max_glu_serum'] != 'None']['max_glu_serum'].value_counts()\n",
    "\n",
    "fig = plt.figure(facecolor='#17123B')\n",
    "ax = fig.add_subplot()\n",
    "\n",
    "# plotting line\n",
    "glu = ax.pie(max_glu_serum, labels=max_glu_serum.index, autopct='%1.1f%%',\n",
    "               explode=np.repeat(0.01, len(max_glu_serum)),\n",
    "               colors=['#53C9F2', '#55D047', '#E9E82B', '#F74331', '#7E8178'])\n",
    "for i in glu[1]:\n",
    "    i.set_color('w')\n",
    "\n",
    "plt.show()"
   ]
  },
  {
   "cell_type": "code",
   "execution_count": null,
   "id": "0f1cf5f6",
   "metadata": {},
   "outputs": [],
   "source": []
  },
  {
   "cell_type": "code",
   "execution_count": 56,
   "id": "f3249f49",
   "metadata": {},
   "outputs": [
    {
     "data": {
      "image/png": "[encoded data removed]",
      "text/plain": [
       "<Figure size 640x480 with 1 Axes>"
      ]
     },
     "metadata": {},
     "output_type": "display_data"
    }
   ],
   "source": [
    "# Create a bar chart\n",
    "labels = ['A', 'B', 'C', 'D']\n",
    "values = [10, 20, 30, 40]\n",
    "fig, ax = plt.subplots()\n",
    "ax.bar(labels, values)\n",
    "\n",
    "# Change the color of the tick lines\n",
    "ax.tick_params(axis='x', colors='blue')\n",
    "ax.tick_params(axis='y', colors='red')\n",
    "\n",
    "# Show the plot\n",
    "plt.show()\n"
   ]
  },
  {
   "cell_type": "code",
   "execution_count": null,
   "id": "702516d2",
   "metadata": {},
   "outputs": [],
   "source": []
  },
  {
   "cell_type": "code",
   "execution_count": 107,
   "id": "4e813a86",
   "metadata": {},
   "outputs": [
    {
     "data": {
      "image/png": "[encoded data removed]",
      "text/plain": [
       "<Figure size 500x540 with 1 Axes>"
      ]
     },
     "metadata": {},
     "output_type": "display_data"
    }
   ],
   "source": [
    "fig = plt.figure(figsize=(5, 5.4), facecolor='#17123B')\n",
    "            \n",
    "ax = fig.add_subplot()\n",
    "\n",
    "x = np.arange(1, len(age_cat) + 1)\n",
    "\n",
    "# Plotting line\n",
    "ax.bar(x - 0.1, age_male, width=0.2, label='Male', color='#53C9F2', edgecolor = 'k')\n",
    "ax.bar(x + 0.1, age_female, width=0.2, label='Female', color='#55D047', edgecolor = 'k')\n",
    "\n",
    "# Setting title\n",
    "# ax.set_title('Number of Visited Patients in each Age category')\n",
    "\n",
    "# setting labels\n",
    "ax.set_xlabel('Age Category', labelpad=10, fontdict = {'color': 'w'})\n",
    "ax.set_ylabel('Number of Patients', labelpad=10, fontdict = {'color': 'w'})\n",
    "\n",
    "# setting ticks\n",
    "ax.set_xticks(range(1, len(age_cat) + 1))\n",
    "ax.set_xticklabels(age_index, rotation=90)\n",
    "ax.tick_params(axis='x', colors='w')\n",
    "ax.tick_params(axis='y', colors='w')\n",
    "\n",
    "# setting legend\n",
    "l = ax.legend()\n",
    "for text in l.get_texts():\n",
    "    text.set_color('r')\n",
    "\n",
    "plt.show()"
   ]
  },
  {
   "cell_type": "code",
   "execution_count": null,
   "id": "71353895",
   "metadata": {},
   "outputs": [],
   "source": []
  },
  {
   "cell_type": "code",
   "execution_count": 109,
   "id": "4367a6fe",
   "metadata": {},
   "outputs": [
    {
     "data": {
      "image/png": "[encoded data removed]",
      "text/plain": [
       "<Figure size 640x480 with 1 Axes>"
      ]
     },
     "metadata": {},
     "output_type": "display_data"
    }
   ],
   "source": [
    "fig = plt.figure(facecolor = 'r', )\n",
    "ax = fig.add_subplot()"
   ]
  },
  {
   "cell_type": "code",
   "execution_count": null,
   "id": "fa2490bb",
   "metadata": {},
   "outputs": [],
   "source": []
  }
 ],
 "metadata": {
  "kernelspec": {
   "display_name": "Python 3 (ipykernel)",
   "language": "python",
   "name": "python3"
  },
  "language_info": {
   "codemirror_mode": {
    "name": "ipython",
    "version": 3
   },
   "file_extension": ".py",
   "mimetype": "text/x-python",
   "name": "python",
   "nbconvert_exporter": "python",
   "pygments_lexer": "ipython3",
   "version": "3.9.13"
  }
 },
 "nbformat": 4,
 "nbformat_minor": 5
}
